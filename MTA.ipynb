{
  "nbformat": 4,
  "nbformat_minor": 0,
  "metadata": {
    "kernelspec": {
      "name": "python3",
      "display_name": "Python 3.9.2 64-bit",
      "metadata": {
        "interpreter": {
          "hash": "697f484b6551219a9bf413a8020ba887435cc03ad83b9dc3eda90fa64545ba9c"
        }
      }
    },
    "language_info": {
      "codemirror_mode": {
        "name": "ipython",
        "version": 3
      },
      "file_extension": ".py",
      "mimetype": "text/x-python",
      "name": "python",
      "nbconvert_exporter": "python",
      "pygments_lexer": "ipython3",
      "version": "3.9.2-final"
    },
    "orig_nbformat": 2,
    "colab": {
      "name": "MTA.ipynb",
      "provenance": [],
      "collapsed_sections": []
    }
  },
  "cells": [
    {
      "cell_type": "code",
      "metadata": {
        "id": "PrGyDZhQZQgF",
        "outputId": "123ec090-2201-4c48-c8a8-9ed846d8b601"
      },
      "source": [
        "a = \"ABCDEFGH\"\n",
        "word=\"\"\n",
        "print(\"len:\",len(a))\n",
        "\n",
        "for index in range(len(a) - 1, -1, -1):\n",
        "    word += a[index]\n",
        "word"
      ],
      "execution_count": 8,
      "outputs": [
        {
          "output_type": "stream",
          "name": "stdout",
          "text": [
            "len: 8\n"
          ]
        },
        {
          "output_type": "execute_result",
          "data": {
            "text/plain": [
              "'HGFEDCBA'"
            ]
          },
          "metadata": {},
          "execution_count": 8
        }
      ]
    },
    {
      "cell_type": "code",
      "metadata": {
        "id": "udNNtS6DZQgM",
        "outputId": "c25c1342-8b84-4ae0-ef32-f1eb62457d43"
      },
      "source": [
        "0 or 3\n",
        "\n",
        "0 and 3"
      ],
      "execution_count": 9,
      "outputs": [
        {
          "output_type": "execute_result",
          "data": {
            "text/plain": [
              "0"
            ]
          },
          "metadata": {},
          "execution_count": 9
        }
      ]
    },
    {
      "cell_type": "code",
      "metadata": {
        "id": "8t0l3rgzZQgN",
        "outputId": "4fd2d920-b266-42c1-e8da-e0289fc4e970"
      },
      "source": [
        "a = \"AAA\"\n",
        "\n",
        "if 'AAA' in a:\n",
        "    print('T')\n",
        "\n",
        "if 'AAA' == a:\n",
        "    print('T')"
      ],
      "execution_count": 4,
      "outputs": [
        {
          "output_type": "stream",
          "name": "stdout",
          "text": [
            "T\nT\n"
          ]
        }
      ]
    },
    {
      "cell_type": "code",
      "metadata": {
        "id": "mN3gJC92ZQgN",
        "outputId": "fd69becf-750c-49fa-aec5-ad6b1c8a729a"
      },
      "source": [
        "list1 = ['a','b','c']\n",
        "list2= ['a','b','c']\n",
        "print(list1 is list2)\n",
        "print(list1 == list2)\n",
        "\n",
        "a=5\n",
        "b=5\n",
        "print(a is b)\n",
        "print(id(a))\n",
        "print(id(b))\n",
        "print(id(list1))\n",
        "print(id(list2))\n",
        "\n"
      ],
      "execution_count": 10,
      "outputs": [
        {
          "output_type": "stream",
          "name": "stdout",
          "text": [
            "False\nTrue\nTrue\n2019805194672\n2019805194672\n2019876822976\n2019876822592\n"
          ]
        }
      ]
    },
    {
      "cell_type": "code",
      "metadata": {
        "id": "5agAp1BGZQgN",
        "outputId": "a158f84b-1c3b-43c8-dcc4-36121c421d7d"
      },
      "source": [
        "print(1.234e2)"
      ],
      "execution_count": null,
      "outputs": [
        {
          "output_type": "stream",
          "text": [
            "123.4\n"
          ],
          "name": "stdout"
        }
      ]
    },
    {
      "cell_type": "code",
      "metadata": {
        "id": "AiKGOv45ZQgO",
        "outputId": "1c36cec1-8d5f-416f-ab9b-2cd9c484139a"
      },
      "source": [
        "print(bool('False'))\r\n",
        "print(bool('1'))\r\n",
        "print(bool('-1'))\r\n",
        "print(bool(''))"
      ],
      "execution_count": null,
      "outputs": [
        {
          "output_type": "stream",
          "text": [
            "True\n",
            "True\n",
            "True\n",
            "False\n"
          ],
          "name": "stdout"
        }
      ]
    },
    {
      "cell_type": "code",
      "metadata": {
        "id": "vnho7q9HZQgO",
        "outputId": "78419fae-0438-4859-c042-2ef810d85fc7"
      },
      "source": [
        "s = 'asdaaff,SSS'\r\n",
        "s.capitalize()"
      ],
      "execution_count": null,
      "outputs": [
        {
          "output_type": "execute_result",
          "data": {
            "text/plain": [
              "'Asdaaff,sss'"
            ]
          },
          "metadata": {
            "tags": []
          },
          "execution_count": 45
        }
      ]
    },
    {
      "cell_type": "code",
      "metadata": {
        "id": "hUpnfYOrZQgO",
        "outputId": "c9cb30a1-ba26-4f92-e105-3e4a7f51a8af"
      },
      "source": [
        "print('{}{{}}'.format('{}','A','B'))\r\n",
        "\r\n",
        "print('hello {1}'.format('A','B'))\r\n",
        "\r\n",
        "print('{:x}'.format(16))"
      ],
      "execution_count": null,
      "outputs": [
        {
          "output_type": "stream",
          "text": [
            "{}{}\n",
            "hello B\n",
            "10\n"
          ],
          "name": "stdout"
        }
      ]
    },
    {
      "cell_type": "code",
      "metadata": {
        "id": "DaLglsvUZQgP",
        "outputId": "2cb0d4de-6b34-4365-b467-0bbc37b2faaf"
      },
      "source": [
        "i = '255'\r\n",
        "j = 5 \r\n",
        "print(i * j)"
      ],
      "execution_count": null,
      "outputs": [
        {
          "output_type": "stream",
          "text": [
            "255255255255255\n"
          ],
          "name": "stdout"
        }
      ]
    },
    {
      "cell_type": "code",
      "metadata": {
        "id": "ERMWEZ0DZQgP",
        "outputId": "5d72d268-dbda-4cc2-ccd7-648e19c7afb9"
      },
      "source": [
        "c='A6'\r\n",
        "x = c.isalnum()\r\n",
        "x"
      ],
      "execution_count": null,
      "outputs": [
        {
          "output_type": "execute_result",
          "data": {
            "text/plain": [
              "True"
            ]
          },
          "metadata": {
            "tags": []
          },
          "execution_count": 86
        }
      ]
    },
    {
      "cell_type": "code",
      "metadata": {
        "id": "YCLQrLa8ZQgP",
        "outputId": "92bad77b-6600-4f25-ab92-868ace0983f5"
      },
      "source": [
        "str = '39.2'\r\n",
        "print( float(str) + 10.8)"
      ],
      "execution_count": null,
      "outputs": [
        {
          "output_type": "stream",
          "text": [
            "50.0\n"
          ],
          "name": "stdout"
        }
      ]
    },
    {
      "cell_type": "code",
      "metadata": {
        "id": "Uyp9x9mPZQgQ",
        "outputId": "e9508dff-8e97-4d1f-c8f7-7e6047f83658"
      },
      "source": [
        "s = 'ABCDEFGHI'\r\n",
        "print(s[5:1:-1])"
      ],
      "execution_count": null,
      "outputs": [
        {
          "output_type": "stream",
          "text": [
            "FEDC\n"
          ],
          "name": "stdout"
        }
      ]
    },
    {
      "cell_type": "code",
      "metadata": {
        "id": "KGeT2KOOZQgQ",
        "outputId": "46b9f219-022c-458f-b42f-8033c1029721"
      },
      "source": [
        "x = \"str='str' + 'ing' \"\r\n",
        "x\r\n",
        "type(x)"
      ],
      "execution_count": null,
      "outputs": [
        {
          "output_type": "execute_result",
          "data": {
            "text/plain": [
              "str"
            ]
          },
          "metadata": {
            "tags": []
          },
          "execution_count": 104
        }
      ]
    },
    {
      "cell_type": "code",
      "metadata": {
        "id": "WpBZi0uwZQgQ",
        "outputId": "83a94c8e-6855-421e-9583-8cebf97d3cf9"
      },
      "source": [
        "x = 'a'\r\n",
        "type(x)"
      ],
      "execution_count": null,
      "outputs": [
        {
          "output_type": "execute_result",
          "data": {
            "text/plain": [
              "str"
            ]
          },
          "metadata": {
            "tags": []
          },
          "execution_count": 105
        }
      ]
    },
    {
      "cell_type": "code",
      "metadata": {
        "id": "PdFc_P5UZQgR",
        "outputId": "57838812-5bab-49ef-cfaa-17da8424cf83"
      },
      "source": [
        "x = \"'a'+'a'\"\r\n",
        "x"
      ],
      "execution_count": null,
      "outputs": [
        {
          "output_type": "execute_result",
          "data": {
            "text/plain": [
              "\"'a'+'a'\""
            ]
          },
          "metadata": {
            "tags": []
          },
          "execution_count": 108
        }
      ]
    },
    {
      "cell_type": "code",
      "metadata": {
        "id": "xvA86q_cZQgR",
        "outputId": "9e28b982-ba53-42e1-f91e-1cab081c7fea"
      },
      "source": [
        "not(12 + 3 < 12 * 3)\r\n",
        "20 > 12 or 40 < 8\r\n",
        "(20 > 12) or (40 < 8)\r\n",
        "30 < 60 and 'A' != 'B'\r\n",
        "(20 > 13) or ('A' == 'B') and (10 >= 5)\r\n",
        "20 > 12 and not(40 < 8)\r\n",
        "\r\n",
        "20+12 == 40-8\r\n",
        "45 != 45\r\n",
        "'30' < 60"
      ],
      "execution_count": null,
      "outputs": [
        {
          "output_type": "error",
          "ename": "TypeError",
          "evalue": "'<' not supported between instances of 'str' and 'int'",
          "traceback": [
            "\u001b[1;31m---------------------------------------------------------------------------\u001b[0m",
            "\u001b[1;31mTypeError\u001b[0m                                 Traceback (most recent call last)",
            "\u001b[1;32m<ipython-input-118-174a23383d25>\u001b[0m in \u001b[0;36m<module>\u001b[1;34m\u001b[0m\n\u001b[0;32m      8\u001b[0m \u001b[1;36m20\u001b[0m\u001b[1;33m+\u001b[0m\u001b[1;36m12\u001b[0m \u001b[1;33m==\u001b[0m \u001b[1;36m40\u001b[0m\u001b[1;33m-\u001b[0m\u001b[1;36m8\u001b[0m\u001b[1;33m\u001b[0m\u001b[1;33m\u001b[0m\u001b[0m\n\u001b[0;32m      9\u001b[0m \u001b[1;36m45\u001b[0m \u001b[1;33m!=\u001b[0m \u001b[1;36m45\u001b[0m\u001b[1;33m\u001b[0m\u001b[1;33m\u001b[0m\u001b[0m\n\u001b[1;32m---> 10\u001b[1;33m \u001b[1;34m'30'\u001b[0m \u001b[1;33m<\u001b[0m \u001b[1;36m60\u001b[0m\u001b[1;33m\u001b[0m\u001b[1;33m\u001b[0m\u001b[0m\n\u001b[0m",
            "\u001b[1;31mTypeError\u001b[0m: '<' not supported between instances of 'str' and 'int'"
          ]
        }
      ]
    },
    {
      "cell_type": "code",
      "metadata": {
        "id": "6sW7S5rbZQgR",
        "outputId": "153b5763-e3cb-4555-c89e-6d3bfd3d1188"
      },
      "source": [
        "'A' >= 'B'\r\n",
        "(2017 % 4 == 0) or ((2017 + 3) % 10 == 0) and not(2017 % 100 != 17)"
      ],
      "execution_count": null,
      "outputs": [
        {
          "output_type": "execute_result",
          "data": {
            "text/plain": [
              "True"
            ]
          },
          "metadata": {
            "tags": []
          },
          "execution_count": 122
        }
      ]
    },
    {
      "cell_type": "code",
      "metadata": {
        "id": "xVzWDy2lZQgR",
        "outputId": "de8b99c9-cc53-4ed5-9073-86562e395686"
      },
      "source": [
        "type('c' > 'K')"
      ],
      "execution_count": 11,
      "outputs": [
        {
          "output_type": "execute_result",
          "data": {
            "text/plain": [
              "bool"
            ]
          },
          "metadata": {},
          "execution_count": 11
        }
      ]
    },
    {
      "cell_type": "code",
      "metadata": {
        "id": "Y66nmrGkZQgS",
        "outputId": "87bde9a4-ce9e-476b-ffe2-0698248161f8"
      },
      "source": [
        "a = 5\n",
        "if a > 5 :\n",
        "    print('A')\n",
        "elif a > 10:\n",
        "    print('B')\n",
        "else :\n",
        "    print('C')"
      ],
      "execution_count": 12,
      "outputs": [
        {
          "output_type": "stream",
          "name": "stdout",
          "text": [
            "C\n"
          ]
        }
      ]
    },
    {
      "cell_type": "code",
      "metadata": {
        "id": "QvEvRYd3ZQgS",
        "outputId": "4e38d72e-4538-4eef-fa29-c5e0bd096f15"
      },
      "source": [
        "x = ['a','b','c']\r\n",
        "\r\n",
        "for i in range(len(x)) :\r\n",
        "    print(i)\r\n",
        "\r\n"
      ],
      "execution_count": null,
      "outputs": [
        {
          "output_type": "stream",
          "text": [
            "0\n",
            "1\n",
            "2\n"
          ],
          "name": "stdout"
        }
      ]
    },
    {
      "cell_type": "code",
      "metadata": {
        "id": "Ar0RKGKDZQgS",
        "outputId": "4c13087d-f6df-4074-8b1e-acf445f769e6"
      },
      "source": [
        "def print_tables():\r\n",
        "    for x in range(3, 11):\r\n",
        "        for y in range(3, 11):\r\n",
        "            print(x, 'X', y, '=', x*y , end=' | ')\r\n",
        "        print()\r\n",
        "\r\n",
        "print_tables()"
      ],
      "execution_count": null,
      "outputs": [
        {
          "output_type": "stream",
          "text": [
            "3 X 3 = 9 | 3 X 4 = 12 | 3 X 5 = 15 | 3 X 6 = 18 | 3 X 7 = 21 | 3 X 8 = 24 | 3 X 9 = 27 | 3 X 10 = 30 | \n",
            "4 X 3 = 12 | 4 X 4 = 16 | 4 X 5 = 20 | 4 X 6 = 24 | 4 X 7 = 28 | 4 X 8 = 32 | 4 X 9 = 36 | 4 X 10 = 40 | \n",
            "5 X 3 = 15 | 5 X 4 = 20 | 5 X 5 = 25 | 5 X 6 = 30 | 5 X 7 = 35 | 5 X 8 = 40 | 5 X 9 = 45 | 5 X 10 = 50 | \n",
            "6 X 3 = 18 | 6 X 4 = 24 | 6 X 5 = 30 | 6 X 6 = 36 | 6 X 7 = 42 | 6 X 8 = 48 | 6 X 9 = 54 | 6 X 10 = 60 | \n",
            "7 X 3 = 21 | 7 X 4 = 28 | 7 X 5 = 35 | 7 X 6 = 42 | 7 X 7 = 49 | 7 X 8 = 56 | 7 X 9 = 63 | 7 X 10 = 70 | \n",
            "8 X 3 = 24 | 8 X 4 = 32 | 8 X 5 = 40 | 8 X 6 = 48 | 8 X 7 = 56 | 8 X 8 = 64 | 8 X 9 = 72 | 8 X 10 = 80 | \n",
            "9 X 3 = 27 | 9 X 4 = 36 | 9 X 5 = 45 | 9 X 6 = 54 | 9 X 7 = 63 | 9 X 8 = 72 | 9 X 9 = 81 | 9 X 10 = 90 | \n",
            "10 X 3 = 30 | 10 X 4 = 40 | 10 X 5 = 50 | 10 X 6 = 60 | 10 X 7 = 70 | 10 X 8 = 80 | 10 X 9 = 90 | 10 X 10 = 100 | \n"
          ],
          "name": "stdout"
        }
      ]
    },
    {
      "cell_type": "code",
      "metadata": {
        "id": "E4Lnhft5ZQgS",
        "outputId": "f440b43a-c1ee-4f27-cafc-12a829cc12d5"
      },
      "source": [
        "num = 2\r\n",
        "while num < 51:\r\n",
        "    flag = True\r\n",
        "    for i in range(2, num):\r\n",
        "        if num % i == 0:\r\n",
        "            flag = False\r\n",
        "            break\r\n",
        "           \r\n",
        "    if flag == True:\r\n",
        "        print(num, end=',')\r\n",
        "    num = num + 1"
      ],
      "execution_count": null,
      "outputs": [
        {
          "output_type": "stream",
          "text": [
            "2,3,5,7,11,13,17,19,23,29,31,37,41,43,47,"
          ],
          "name": "stdout"
        }
      ]
    },
    {
      "cell_type": "code",
      "metadata": {
        "id": "eEUYn48TZQgT",
        "outputId": "7cda997c-32e9-4f6e-dd2b-9aacddd9f879"
      },
      "source": [
        "x = ['a1','a2','a3']\r\n",
        "\r\n",
        "'a3' in x"
      ],
      "execution_count": null,
      "outputs": [
        {
          "output_type": "execute_result",
          "data": {
            "text/plain": [
              "True"
            ]
          },
          "metadata": {
            "tags": []
          },
          "execution_count": 143
        }
      ]
    },
    {
      "cell_type": "code",
      "metadata": {
        "id": "BhxstwjqZQgT",
        "outputId": "8d959c95-4317-4a5a-a445-f2a64ebfdab8"
      },
      "source": [
        "sum = 0\r\n",
        "for x in range(0,11,2):\r\n",
        "    print(x)\r\n",
        "    sum += x\r\n",
        "sum"
      ],
      "execution_count": null,
      "outputs": [
        {
          "output_type": "stream",
          "text": [
            "0\n",
            "2\n",
            "4\n",
            "6\n",
            "8\n",
            "10\n"
          ],
          "name": "stdout"
        },
        {
          "output_type": "execute_result",
          "data": {
            "text/plain": [
              "30"
            ]
          },
          "metadata": {
            "tags": []
          },
          "execution_count": 146
        }
      ]
    },
    {
      "cell_type": "code",
      "metadata": {
        "id": "G2NzPLEaZQgT",
        "outputId": "6f67cf62-8a17-4333-bb49-f8a3022b10c1"
      },
      "source": [
        "import os\r\n",
        "if os.path.isfile('test45.txt'):\r\n",
        "    file = open('test45.txt')\r\n",
        "    print(file.read())\r\n",
        "    file.close()\r\n",
        "\r\n",
        "file = open('test45.txt', 'w+')\r\n",
        "file.write('AAA')\r\n",
        "file.close()"
      ],
      "execution_count": null,
      "outputs": [
        {
          "output_type": "stream",
          "text": [
            "AAA\n"
          ],
          "name": "stdout"
        }
      ]
    },
    {
      "cell_type": "code",
      "metadata": {
        "id": "y4E8rj7xZQgU",
        "outputId": "c5421ce8-f226-42dc-b058-4f7f8a4aa6a2"
      },
      "source": [
        "import datetime\r\n",
        "d = datetime.datetime(2002, 4, 1)\r\n",
        "print('{:%B-%d-%y}'.format(d))\r\n",
        "n = 123456.789\r\n",
        "print('{:,.4f}'.format(n))"
      ],
      "execution_count": null,
      "outputs": [
        {
          "output_type": "stream",
          "text": [
            "April-01-02\n",
            "123,456.7890\n"
          ],
          "name": "stdout"
        }
      ]
    },
    {
      "cell_type": "markdown",
      "metadata": {
        "id": "iI0YH6y1ZQgU"
      },
      "source": [
        "數值格式化及對齊\r\n",
        "{:d}        : 整數\r\n",
        "{:f}        : 浮點數\r\n",
        "{:e} {:E}   : 科學記號，例如 1.020000e+01，大小寫就代表 \"e\" 顯示的大小寫\r\n",
        "{:x} {:X}   : 十六進位，大小寫分別表示 A ~ F 要顯示的大小寫\r\n",
        "{:o}        : 八進位\r\n",
        "{:b}        : 二進位\r\n",
        "{:>}}        : 以百分比的方式輸出\r\n",
        "\r\n",
        "{:>8d}      : 整數靠右對齊，寬度為 8\r\n",
        "{:^8d}      : 整數置中對齊，寬度為 8\r\n",
        "{:<8d}      : 整數靠左對齊，寬度為 8\r\n",
        "{:8.3f}     : 小數點後保留 3 位，總寬度為 8 (含小數點)\r\n",
        "{:+8.3f}    : 小數點後保留 3 位，帶正負號，總寬度為 8 (含小數點及正負號)\r\n",
        "\r\n",
        "時間表示\r\n",
        "%a  : 星期縮寫 *　　　　　(Mon)\r\n",
        "%A  : 星期全寫 *　　　　　(Monday)\r\n",
        "%w  : 星期數字  　　　　　(0 … 6)\r\n",
        "%d  : 日期  　　　　　　　(01 … 31)\r\n",
        "%b  : 月份縮寫 *　　　　　(Jan)\r\n",
        "%B  : 月份全寫 *　　　　　(January)\r\n",
        "%m  : 月份數字  　　　　　(01 … 12)\r\n",
        "%y  : 西元年二位數字  　　(00 … 99)\r\n",
        "%Y  : 西元年  　　　　　　(1970 … 2018)\r\n",
        "%H  : 24小時制  　　　　　(00 … 23)\r\n",
        "%I  : 12小時制  　　　　　(01 … 12)\r\n",
        "%p  : AM 或 PM *\r\n",
        "%M  : 分  　　　　　　　　(00 … 59)\r\n",
        "%S  : 秒  　　　　　　　　(00 … 59)\r\n",
        "%f  : 微秒，六位數字  　　(000000 … 999999)\r\n",
        "%c  : 日期和時間 *　　　　(Tue Aug 16 21:30:00 2017)\r\n",
        "%x  : 日期 *　　　　　　　(08/16/2017)\r\n",
        "%X  : 時間 *　　　　　　　(21:30:00)"
      ]
    },
    {
      "cell_type": "code",
      "metadata": {
        "colab": {
          "base_uri": "https://localhost:8080/"
        },
        "id": "qGRz4pUgaGC_",
        "outputId": "f12e74d6-0fb1-41eb-d527-3da659cf6662"
      },
      "source": [
        "name = 'AAA'\r\n",
        "score, num ,sum = 0, 0, 0\r\n",
        "while (score != -1):\r\n",
        "    score = int(input(\"請輸入成績：(停止時請輸入-1)\"))\r\n",
        "    if score == -1:\r\n",
        "        break\r\n",
        "    sum += score\r\n",
        "    num += 1\r\n",
        "    avg = sum / num\r\n",
        "print(\"%-10s：平均分數 = %8..1f\"%(name, avg))"
      ],
      "execution_count": null,
      "outputs": [
        {
          "output_type": "stream",
          "text": [
            "請輸入成績：(停止時請輸入-1)17\n",
            "請輸入成績：(停止時請輸入-1)15\n",
            "請輸入成績：(停止時請輸入-1)3\n",
            "請輸入成績：(停止時請輸入-1)-1\n",
            "AAA       ：平均分數 =     11.7\n"
          ],
          "name": "stdout"
        }
      ]
    },
    {
      "cell_type": "code",
      "metadata": {
        "colab": {
          "base_uri": "https://localhost:8080/"
        },
        "id": "dDgFpdFGcVTM",
        "outputId": "b2405d95-58cb-4b2a-8006-9f7c2fe572d0"
      },
      "source": [
        "print('%10.8f'%(123456.786))\r\n",
        "print('%10f'%(123456.786))"
      ],
      "execution_count": null,
      "outputs": [
        {
          "output_type": "stream",
          "text": [
            "123456.78600000\n",
            "123456.786000\n"
          ],
          "name": "stdout"
        }
      ]
    },
    {
      "cell_type": "code",
      "metadata": {
        "id": "Q8FwR68XF0tg"
      },
      "source": [
        "mod = pow(3,4,6) # 3**4%6\r\n",
        "print(mod)\r\n",
        "\r\n",
        "mod = pow(3,4)\r\n",
        "print(mod)\r\n",
        "\r\n",
        "print(3**4)"
      ],
      "execution_count": null,
      "outputs": []
    },
    {
      "cell_type": "code",
      "metadata": {
        "id": "fJag0-pAF1Tp"
      },
      "source": [
        "for i in range(10):\r\n",
        "    print(i)\r\n",
        "\r\n",
        "stuScore = [85, 72, 65, 45, 93]\r\n",
        "len(stuScore)"
      ],
      "execution_count": null,
      "outputs": []
    },
    {
      "cell_type": "code",
      "metadata": {
        "id": "EhgW8mhwF2zq"
      },
      "source": [
        "def ttt():\r\n",
        "    return 1,2,3,4\r\n",
        "\r\n",
        "temp = ttt()\r\n",
        "\r\n",
        "type(temp)"
      ],
      "execution_count": null,
      "outputs": []
    },
    {
      "cell_type": "code",
      "metadata": {
        "id": "cskM3i9QF4Eo",
        "colab": {
          "base_uri": "https://localhost:8080/"
        },
        "outputId": "b248e4eb-f1c4-4b88-bbcb-3c5e72b97f0b"
      },
      "source": [
        "print('{:>8d}'.format(99))\r\n",
        "print('{:<8d}'.format(99))\r\n",
        "print('{:^8d}'.format(99))\r\n",
        "print('{:,.3f}'.format(88.6))\r\n",
        "print('{:.3f}'.format(88.6))\r\n",
        "print('{:10.3f}'.format(888.666666))\r\n",
        "print('{:+8.3f}'.format(88.6))\r\n",
        "print('{:+8.3f}'.format(-88.6))\r\n",
        "print('{:-2d}'.format(-88))"
      ],
      "execution_count": null,
      "outputs": [
        {
          "output_type": "stream",
          "text": [
            "      99\n",
            "99      \n",
            "   99   \n",
            "88.600\n",
            "88.600\n",
            "   888.667\n",
            " +88.600\n",
            " -88.600\n",
            "-88\n"
          ],
          "name": "stdout"
        }
      ]
    },
    {
      "cell_type": "code",
      "metadata": {
        "colab": {
          "base_uri": "https://localhost:8080/",
          "height": 233
        },
        "id": "9u5Wxr7ohHyv",
        "outputId": "95c2f7f5-13eb-43e9-9ca7-b48404a36e2a"
      },
      "source": [
        "import sys\r\n",
        "\r\n",
        "fName = 'test61.txt'\r\n",
        "file = open(fName, 'r+')\r\n",
        "\r\n",
        "file.close() "
      ],
      "execution_count": null,
      "outputs": [
        {
          "output_type": "error",
          "ename": "FileNotFoundError",
          "evalue": "ignored",
          "traceback": [
            "\u001b[0;31m---------------------------------------------------------------------------\u001b[0m",
            "\u001b[0;31mFileNotFoundError\u001b[0m                         Traceback (most recent call last)",
            "\u001b[0;32m<ipython-input-4-ea3f5f02e6cc>\u001b[0m in \u001b[0;36m<module>\u001b[0;34m()\u001b[0m\n\u001b[1;32m      2\u001b[0m \u001b[0;34m\u001b[0m\u001b[0m\n\u001b[1;32m      3\u001b[0m \u001b[0mfName\u001b[0m \u001b[0;34m=\u001b[0m \u001b[0;34m'test61.txt'\u001b[0m\u001b[0;34m\u001b[0m\u001b[0;34m\u001b[0m\u001b[0m\n\u001b[0;32m----> 4\u001b[0;31m \u001b[0mfile\u001b[0m \u001b[0;34m=\u001b[0m \u001b[0mopen\u001b[0m\u001b[0;34m(\u001b[0m\u001b[0mfName\u001b[0m\u001b[0;34m,\u001b[0m \u001b[0;34m'r+'\u001b[0m\u001b[0;34m)\u001b[0m\u001b[0;34m\u001b[0m\u001b[0;34m\u001b[0m\u001b[0m\n\u001b[0m\u001b[1;32m      5\u001b[0m \u001b[0;34m\u001b[0m\u001b[0m\n\u001b[1;32m      6\u001b[0m \u001b[0mfile\u001b[0m\u001b[0;34m.\u001b[0m\u001b[0mclose\u001b[0m\u001b[0;34m(\u001b[0m\u001b[0;34m)\u001b[0m\u001b[0;34m\u001b[0m\u001b[0;34m\u001b[0m\u001b[0m\n",
            "\u001b[0;31mFileNotFoundError\u001b[0m: [Errno 2] No such file or directory: 'test61.txt'"
          ]
        }
      ]
    },
    {
      "cell_type": "code",
      "metadata": {
        "id": "VWSUuz2Ihuq2"
      },
      "source": [
        "import os\r\n",
        "def read_file(fileName):\r\n",
        "    cap = None\r\n",
        "    if os.path.isfile(fileName):\r\n",
        "      file = open(fileName, 'r')\r\n",
        "    while cap != '':\r\n",
        "      cap = file.read(1)\r\n",
        "      print(cap)"
      ],
      "execution_count": null,
      "outputs": []
    },
    {
      "cell_type": "code",
      "metadata": {
        "colab": {
          "base_uri": "https://localhost:8080/"
        },
        "id": "rgOPS4NIjCCd",
        "outputId": "21a2ddc4-6f21-461d-9834-eb0a8f049e0e"
      },
      "source": [
        "while True:\r\n",
        "    try:\r\n",
        "      num = int(input('請輸入一個整數：'))\r\n",
        "      break\r\n",
        "    except ValueError:\r\n",
        "      print('這不是整數！')\r\n",
        "print(\"程式結式\")"
      ],
      "execution_count": null,
      "outputs": [
        {
          "output_type": "stream",
          "text": [
            "請輸入一個整數：1\n",
            "程式結式\n"
          ],
          "name": "stdout"
        }
      ]
    },
    {
      "cell_type": "code",
      "metadata": {
        "id": "ycndtb0Sj_kZ"
      },
      "source": [
        "#import os.path as oo\r\n",
        "#from os.path.isfile as oo\r\n",
        "from os.path import isfile as oo\r\n",
        "\r\n",
        "def read_file(fileName):\r\n",
        "    cap = None\r\n",
        "    if oo(fileName):\r\n",
        "      file = open(fileName, 'r')\r\n",
        "    while cap != '':\r\n",
        "      cap = file.read(1)\r\n",
        "      print(cap)\r\n"
      ],
      "execution_count": null,
      "outputs": []
    },
    {
      "cell_type": "code",
      "metadata": {
        "colab": {
          "base_uri": "https://localhost:8080/"
        },
        "id": "46x_ZPC8lN-1",
        "outputId": "b305db89-2437-45f5-efc4-8f1087d40481"
      },
      "source": [
        "import random\r\n",
        "print(random.randrange(2, 11, 1))\r\n",
        "print(random.randint(2, 10))"
      ],
      "execution_count": null,
      "outputs": [
        {
          "output_type": "stream",
          "text": [
            "4\n",
            "7\n"
          ],
          "name": "stdout"
        }
      ]
    },
    {
      "cell_type": "code",
      "metadata": {
        "colab": {
          "base_uri": "https://localhost:8080/"
        },
        "id": "gWaNg0tumCGm",
        "outputId": "a8083643-6af4-46f7-c8ed-ff52556d8bfa"
      },
      "source": [
        "import random\r\n",
        "print(random.random())\r\n",
        "print(random.randrange(0, 5,2))"
      ],
      "execution_count": null,
      "outputs": [
        {
          "output_type": "stream",
          "text": [
            "0.392343181745329\n",
            "0\n"
          ],
          "name": "stdout"
        }
      ]
    },
    {
      "cell_type": "code",
      "metadata": {
        "colab": {
          "base_uri": "https://localhost:8080/"
        },
        "id": "GoKcBlZumnaX",
        "outputId": "5e6d2e7a-e55d-42ec-cf38-4522a76ff2dc"
      },
      "source": [
        "import math\r\n",
        "\r\n",
        "print(math.ceil(5))\r\n",
        "print(math.ceil(6))\r\n",
        "\r\n",
        "print(math.fabs(-66))\r\n",
        "\r\n",
        "print(math.factorial(9))\r\n",
        "\r\n",
        "print(math.floor(4.5))"
      ],
      "execution_count": null,
      "outputs": [
        {
          "output_type": "stream",
          "text": [
            "5\n",
            "6\n",
            "66.0\n",
            "362880\n",
            "4\n"
          ],
          "name": "stdout"
        }
      ]
    },
    {
      "cell_type": "code",
      "metadata": {
        "colab": {
          "base_uri": "https://localhost:8080/"
        },
        "id": "PQavC2QwtQmh",
        "outputId": "2dd372f0-15c4-4fa1-aade-da524622b61e"
      },
      "source": [
        "lst_1 = [[1,2], [1,2]]\r\n",
        "lst_2 = [3, 4]\r\n",
        "lst_3 = lst_1 + lst_2 \r\n",
        "lst_4 = lst_3 * 2 \r\n",
        "print(lst_4)\r\n",
        "print(type(lst_4))"
      ],
      "execution_count": null,
      "outputs": [
        {
          "output_type": "stream",
          "text": [
            "[[1, 2], [1, 2], 3, 4, [1, 2], [1, 2], 3, 4]\n",
            "<class 'list'>\n"
          ],
          "name": "stdout"
        }
      ]
    },
    {
      "cell_type": "code",
      "metadata": {
        "colab": {
          "base_uri": "https://localhost:8080/"
        },
        "id": "qWkLl3FTuCxJ",
        "outputId": "f4ed24fc-6b6e-4f75-9ed6-aa584cc73aba"
      },
      "source": [
        "ironman_list1 = [1,2,3,4,5,6]\r\n",
        "n = ironman_list1.pop()\r\n",
        "print('取出list最後一個元素並且移除---->',n)\r\n",
        "print('ironman_list1--->',ironman_list1)\r\n",
        "ironman_list1 = [2,3,4,5,6,3,3,6]\r\n",
        "ironman_list1.remove(3)\r\n",
        "print('移除第一次出現3的元素---->',list(ironman_list1))"
      ],
      "execution_count": null,
      "outputs": [
        {
          "output_type": "stream",
          "text": [
            "取出list最後一個元素並且移除----> 6\n",
            "ironman_list1---> [1, 2, 3, 4, 5]\n",
            "移除第一次出現3的元素----> [2, 4, 5, 6, 3, 3, 6]\n"
          ],
          "name": "stdout"
        }
      ]
    },
    {
      "cell_type": "code",
      "metadata": {
        "colab": {
          "base_uri": "https://localhost:8080/"
        },
        "id": "H75rogYZublX",
        "outputId": "26002c7c-3062-4921-b6b3-28f8ef452ff4"
      },
      "source": [
        "ironman_tuple = (\"中信兄弟\", \"統一獅\", \"lamigo\", \"富邦悍將\")\r\n",
        "print('總冠軍隊伍', ironman_tuple[0]) \r\n",
        "print('亞軍隊伍', ironman_tuple[-2])"
      ],
      "execution_count": null,
      "outputs": [
        {
          "output_type": "stream",
          "text": [
            "總冠軍隊伍 中信兄弟\n",
            "亞軍隊伍 lamigo\n"
          ],
          "name": "stdout"
        }
      ]
    },
    {
      "cell_type": "code",
      "metadata": {
        "colab": {
          "base_uri": "https://localhost:8080/"
        },
        "id": "7IA8_mS7ukHW",
        "outputId": "d34ed4f9-123e-4a80-d433-4114d6fc8454"
      },
      "source": [
        "ironman_tuple = (\"中信兄弟\", \"統一獅\", \"lamigo\", \"富邦悍將\")\r\n",
        "ironman_list = [\"brother\",\"lion\",\"monkey\",\"Guardians\"]\r\n",
        "tuple_to_list = list(ironman_tuple)\r\n",
        "list_to_tuple = tuple(ironman_list)\r\n",
        "print(list(tuple_to_list))\r\n",
        "print(list_to_tuple)"
      ],
      "execution_count": null,
      "outputs": [
        {
          "output_type": "stream",
          "text": [
            "['中信兄弟', '統一獅', 'lamigo', '富邦悍將']\n",
            "('brother', 'lion', 'monkey', 'Guardians')\n"
          ],
          "name": "stdout"
        }
      ]
    },
    {
      "cell_type": "code",
      "metadata": {
        "colab": {
          "base_uri": "https://localhost:8080/"
        },
        "id": "G6p86F68vt-B",
        "outputId": "6fbb2796-cb6d-441f-8285-afbcfb6faea0"
      },
      "source": [
        "for i in range(1,10):\r\n",
        "    for j in range(1,10):\r\n",
        "        product = i * j\r\n",
        "        print(\"%d*%d=%-2d \" %(i,j, product), end=\" \")\r\n",
        "    print() #斷行"
      ],
      "execution_count": null,
      "outputs": [
        {
          "output_type": "stream",
          "text": [
            "1*1=1   1*2=2   1*3=3   1*4=4   1*5=5   1*6=6   1*7=7   1*8=8   1*9=9   \n",
            "2*1=2   2*2=4   2*3=6   2*4=8   2*5=10  2*6=12  2*7=14  2*8=16  2*9=18  \n",
            "3*1=3   3*2=6   3*3=9   3*4=12  3*5=15  3*6=18  3*7=21  3*8=24  3*9=27  \n",
            "4*1=4   4*2=8   4*3=12  4*4=16  4*5=20  4*6=24  4*7=28  4*8=32  4*9=36  \n",
            "5*1=5   5*2=10  5*3=15  5*4=20  5*5=25  5*6=30  5*7=35  5*8=40  5*9=45  \n",
            "6*1=6   6*2=12  6*3=18  6*4=24  6*5=30  6*6=36  6*7=42  6*8=48  6*9=54  \n",
            "7*1=7   7*2=14  7*3=21  7*4=28  7*5=35  7*6=42  7*7=49  7*8=56  7*9=63  \n",
            "8*1=8   8*2=16  8*3=24  8*4=32  8*5=40  8*6=48  8*7=56  8*8=64  8*9=72  \n",
            "9*1=9   9*2=18  9*3=27  9*4=36  9*5=45  9*6=54  9*7=63  9*8=72  9*9=81  \n"
          ],
          "name": "stdout"
        }
      ]
    },
    {
      "cell_type": "code",
      "metadata": {
        "colab": {
          "base_uri": "https://localhost:8080/"
        },
        "id": "byXQ0aoIx29M",
        "outputId": "ed7ba351-8105-461c-c531-694851ae31c1"
      },
      "source": [
        "print('%(real)s is %(nick)s!!' % ({'real' : 'AAA', 'nick' : 'caterpillar'}))\n",
        "\n",
        "print('{real} is {nick}!!'.format(nick = 'caterpillar', real = 'Justin'))\n",
        "\n",
        "print('{0} is {nick}!!'.format('Justin', nick = 'caterpillar'))\n",
        "\n",
        "print('{name} is {age} years old!'.format(name = 'Justin', age = \"35\"))\n",
        "\n",
        "print('{0} is {1} years old!'.format('Justin',35))\n",
        "\n",
        "print('example:{0:f}'.format(19.234))"
      ],
      "execution_count": 13,
      "outputs": [
        {
          "output_type": "stream",
          "name": "stdout",
          "text": [
            "AAA is caterpillar!!\nJustin is caterpillar!!\nJustin is caterpillar!!\nJustin is 35 years old!\nJustin is 35 years old!\nexample:19.234000\n"
          ]
        }
      ]
    },
    {
      "cell_type": "code",
      "execution_count": null,
      "metadata": {},
      "outputs": [],
      "source": []
    }
  ]
}